{
 "cells": [
  {
   "cell_type": "code",
   "execution_count": 5,
   "id": "2ef0e518-be9c-4405-989f-af912d9acaf0",
   "metadata": {},
   "outputs": [],
   "source": [
    "import os\n",
    "import pandas as pd\n",
    "import numpy as np\n",
    "import matplotlib.pyplot as plt\n",
    "import import_ipynb\n",
    "import kinect\n",
    "import cv2\n",
    "from scipy.signal import find_peaks\n",
    "\n",
    "dir_path = \"D:\\\\HK_PS4_Data to Xuan & Junjie\\\\Kinect_Sensor_data\""
   ]
  },
  {
   "cell_type": "code",
   "execution_count": 3,
   "id": "ecbfe30e-10e6-4a64-884d-6fd3f1ea22a1",
   "metadata": {},
   "outputs": [],
   "source": [
    "#  获得所有测试的Kinect文件路径，并计数\n",
    "kinect_files_path = kinect.get_file_path(dir_path)"
   ]
  },
  {
   "cell_type": "code",
   "execution_count": 4,
   "id": "71e658f9-ba92-4e33-8d99-3cc73b75a65f",
   "metadata": {},
   "outputs": [],
   "source": [
    "imu_file_path = \"E:\\\\JupyterLab\\\\TUG\\\\IMU_time.xlsx\"\n",
    "tps_dict = kinect.kin_imutps_dict(imu_file_path, kinect_files_path)"
   ]
  },
  {
   "cell_type": "code",
   "execution_count": 8,
   "id": "49314013-9bd5-4ea3-b7c7-f52a9b4690cb",
   "metadata": {},
   "outputs": [],
   "source": [
    "gait_feature_dict = {}\n",
    "\n",
    "for i in range(len(kinect_files_path)):\n",
    "    kinect_data = kinect.Kinect(pd.read_csv(kinect_files_path[i]))\n",
    "    \n",
    "    #  找到转身的两个点 划出原始数据的两个时间段，画图\n",
    "    time_stamp = kinect_data.get_timestamp()\n",
    "    tps_df = tps_dict[kinect_files_path[i]][2]\n",
    "    imu_walking_start = tps_df.iloc[0,0]\n",
    "    imu_turning_start = tps_df.iloc[0,1]\n",
    "    imu_turning_end = tps_df.iloc[0,2]\n",
    "    imu_walking_end = tps_df.iloc[0,3]\n",
    "    \n",
    "    #  在Kinect数据点中寻找与IMU切分点最接近的点\n",
    "    walking_start = kinect.find_nearest(time_stamp, imu_walking_start)\n",
    "    turning_start = kinect.find_nearest(time_stamp, imu_turning_start)\n",
    "    turning_end = kinect.find_nearest(time_stamp, imu_turning_end)\n",
    "    walking_end = kinect.find_nearest(time_stamp, imu_walking_end)\n",
    "    \n",
    "    walking_time = np.round((time_stamp[turning_start]-time_stamp[walking_start])+(time_stamp[walking_end]-time_stamp[turning_end]), 2)\n",
    "    \n",
    "    centre_name, test_id, test_date = kinect.get_test_info(kinect_files_path[i])\n",
    "    \n",
    "    gait_feature_dict[kinect_files_path[i]] = [centre_name, test_id, test_date, walking_time]\n",
    "\n",
    "gait_feature = pd.DataFrame(gait_feature_dict)\n",
    "gait_feature_t = pd.DataFrame(gait_feature.values.T, index=gait_feature.columns, columns=gait_feature.index)\n",
    "gait_feature_t.to_excel('./walking_time.xlsx')"
   ]
  }
 ],
 "metadata": {
  "kernelspec": {
   "display_name": "Python 3 (ipykernel)",
   "language": "python",
   "name": "python3"
  },
  "language_info": {
   "codemirror_mode": {
    "name": "ipython",
    "version": 3
   },
   "file_extension": ".py",
   "mimetype": "text/x-python",
   "name": "python",
   "nbconvert_exporter": "python",
   "pygments_lexer": "ipython3",
   "version": "3.9.12"
  }
 },
 "nbformat": 4,
 "nbformat_minor": 5
}
